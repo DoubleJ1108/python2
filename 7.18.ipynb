{
 "cells": [
  {
   "cell_type": "markdown",
   "metadata": {},
   "source": [
    "# 选择\n",
    "## 布尔类型、数值和表达式\n",
    "![](../Photo/33.png)\n",
    "- 注意：比较运算符的相等是两个等号，一个等到代表赋值\n",
    "- 在Python中可以用整型0来代表False，其他数字来代表True\n",
    "- 后面还会讲到 is 在判断语句中的用发"
   ]
  },
  {
   "cell_type": "code",
   "execution_count": 1,
   "metadata": {},
   "outputs": [
    {
     "data": {
      "text/plain": [
       "True"
      ]
     },
     "execution_count": 1,
     "metadata": {},
     "output_type": "execute_result"
    }
   ],
   "source": [
    "#bool布尔\n",
    "bool(1)"
   ]
  },
  {
   "cell_type": "code",
   "execution_count": 2,
   "metadata": {},
   "outputs": [
    {
     "data": {
      "text/plain": [
       "False"
      ]
     },
     "execution_count": 2,
     "metadata": {},
     "output_type": "execute_result"
    }
   ],
   "source": [
    "a=id(1)\n",
    "b=id(1)\n",
    "a is b#is比对象，==比值"
   ]
  },
  {
   "cell_type": "markdown",
   "metadata": {},
   "source": [
    "## 字符串的比较使用ASCII值"
   ]
  },
  {
   "cell_type": "markdown",
   "metadata": {},
   "source": [
    "## Markdown \n",
    "- https://github.com/younghz/Markdown"
   ]
  },
  {
   "cell_type": "code",
   "execution_count": null,
   "metadata": {},
   "outputs": [],
   "source": []
  },
  {
   "cell_type": "markdown",
   "metadata": {},
   "source": [
    "## EP:\n",
    "- <img src=\"../Photo/34.png\"></img>\n",
    "- 输入一个数字，判断其实奇数还是偶数"
   ]
  },
  {
   "cell_type": "code",
   "execution_count": 3,
   "metadata": {},
   "outputs": [
    {
     "name": "stdout",
     "output_type": "stream",
     "text": [
      "1 False\n"
     ]
    }
   ],
   "source": [
    "i=int(True)\n",
    "j=bool(0)\n",
    "print(i,j)"
   ]
  },
  {
   "cell_type": "markdown",
   "metadata": {},
   "source": [
    "## 产生随机数字\n",
    "- 函数random.randint(a,b) 可以用来产生一个a和b之间且包括a和b的随机整数"
   ]
  },
  {
   "cell_type": "code",
   "execution_count": 4,
   "metadata": {},
   "outputs": [
    {
     "data": {
      "text/plain": [
       "10"
      ]
     },
     "execution_count": 4,
     "metadata": {},
     "output_type": "execute_result"
    }
   ],
   "source": [
    "import random\n",
    "random.randint(0,10)"
   ]
  },
  {
   "cell_type": "markdown",
   "metadata": {},
   "source": [
    "产生一个随机数，你去输入，如果你输入的数大于随机数，那么就告诉你太大了，反之，太小了，\n",
    "然后你一直输入，知道它满意为止"
   ]
  },
  {
   "cell_type": "code",
   "execution_count": 12,
   "metadata": {},
   "outputs": [
    {
     "name": "stdout",
     "output_type": "stream",
     "text": [
      "请输入一个整数5\n",
      "太小了\n",
      "请输入一个整数8\n",
      "太大了\n",
      "请输入一个整数6\n",
      "太小了\n",
      "请输入一个整数7\n",
      "满意\n"
     ]
    }
   ],
   "source": [
    "j=random.randint(0,10)\n",
    "a=0\n",
    "while 1:\n",
    "    a+=1\n",
    "    i=eval(input('请输入一个整数'))\n",
    "    if a<5:\n",
    "        if i<j:\n",
    "            print('太小了')\n",
    "        elif i>j:\n",
    "            print('太大了')\n",
    "        else:\n",
    "            print('满意')\n",
    "            break\n",
    "    else:\n",
    "        print('没有机会了')\n",
    "        break\n"
   ]
  },
  {
   "cell_type": "markdown",
   "metadata": {},
   "source": [
    "##  其他random方法\n",
    "- random.random 返回0.0到1.0之间前闭后开区间的随机浮点\n",
    "- random.randrange(a,b) 前闭后开"
   ]
  },
  {
   "cell_type": "code",
   "execution_count": null,
   "metadata": {},
   "outputs": [],
   "source": [
    "#图片\n",
    "#import matplotlib.pyplot as plt\n",
    "#image=plt.imread('路径')\n",
    "#plt.imshow"
   ]
  },
  {
   "cell_type": "markdown",
   "metadata": {},
   "source": [
    "## EP：\n",
    "- 产生两个随机整数number1和number2，然后显示给用户，使用户输入数字的和，并判定其是否正确\n",
    "- 进阶:写一个随机序号点名程序"
   ]
  },
  {
   "cell_type": "code",
   "execution_count": 14,
   "metadata": {},
   "outputs": [
    {
     "name": "stdout",
     "output_type": "stream",
     "text": [
      "(5,8)\n"
     ]
    }
   ],
   "source": [
    "num1=random.randint(1,5)\n",
    "num2=random.randint(1,10)\n",
    "print('(',num1,',',num2,')',sep='')"
   ]
  },
  {
   "cell_type": "code",
   "execution_count": 17,
   "metadata": {},
   "outputs": [
    {
     "name": "stdout",
     "output_type": "stream",
     "text": [
      "输入一个整数13\n",
      "正确\n"
     ]
    }
   ],
   "source": [
    "s=num1+num2\n",
    "a=eval(input('输入一个整数'))\n",
    "if a==s:\n",
    "    print('正确')\n",
    "else:\n",
    "    print('不正确')"
   ]
  },
  {
   "cell_type": "markdown",
   "metadata": {},
   "source": [
    "## if语句\n",
    "- 如果条件正确就执行一个单向if语句，亦即当条件为真的时候才执行if内部的语句\n",
    "- Python有很多选择语句:\n",
    "> - 单向if \n",
    "  - 双向if-else\n",
    "  - 嵌套if\n",
    "  - 多向if-elif-else\n",
    "  \n",
    "- 注意：当语句含有子语句的时候，那么一定至少要有一个缩进，也就是说如果有儿子存在，那么一定要缩进\n",
    "- 切记不可tab键和space混用，单用tab 或者 space\n",
    "- 当你输出的结果是无论if是否为真时都需要显示时，语句应该与if对齐"
   ]
  },
  {
   "cell_type": "markdown",
   "metadata": {},
   "source": [
    "## EP：\n",
    "- 用户输入一个数字，判断其实奇数还是偶数\n",
    "- 进阶：可以查看下4.5实例研究猜生日"
   ]
  },
  {
   "cell_type": "code",
   "execution_count": 1,
   "metadata": {},
   "outputs": [
    {
     "name": "stdout",
     "output_type": "stream",
     "text": [
      "请输入年龄：31\n",
      "Bey\n"
     ]
    }
   ],
   "source": [
    "age=eval(input('请输入年龄：'))\n",
    "if age>30:\n",
    "    print('Bey')\n",
    "else:\n",
    "    face=input('请输入帅或者丑')\n",
    "    if face=='丑':\n",
    "        print('Bey')\n",
    "    else:\n",
    "        laopo=input('是否有老婆')\n",
    "        if laopo=='是':\n",
    "            print('回家的诱惑')\n",
    "        else:\n",
    "            print('马上结婚')\n"
   ]
  },
  {
   "cell_type": "code",
   "execution_count": 2,
   "metadata": {},
   "outputs": [
    {
     "name": "stdout",
     "output_type": "stream",
     "text": [
      "请输入年龄：20\n",
      "请输入帅或者丑帅\n",
      "是否有老婆是\n",
      "回家的诱惑\n"
     ]
    }
   ],
   "source": [
    "age=eval(input('请输入年龄：'))\n",
    "if age<30:\n",
    "    face=input('请输入帅或者丑')\n",
    "    if face=='帅':\n",
    "        laopo=input('是否有老婆')\n",
    "        if laopo=='否':\n",
    "            print('马上结婚')\n",
    "        else:\n",
    "            print('回家的诱惑')\n",
    "    else:\n",
    "         print('Bey')\n",
    "else:\n",
    "     print('Bey')\n",
    "    "
   ]
  },
  {
   "cell_type": "code",
   "execution_count": null,
   "metadata": {},
   "outputs": [],
   "source": [
    "#pass占位\n",
    "#if ...:\n",
    "     #pass\n",
    "#else:\n",
    "    #print('...')"
   ]
  },
  {
   "cell_type": "markdown",
   "metadata": {},
   "source": [
    "## 双向if-else 语句\n",
    "- 如果条件为真，那么走if内部语句，否则走else内部语句"
   ]
  },
  {
   "cell_type": "markdown",
   "metadata": {},
   "source": [
    "## EP：\n",
    "- 产生两个随机整数number1和number2，然后显示给用户，使用户输入数字，并判定其是否正确,如果正确打印“you‘re correct”，否则打印正确错误"
   ]
  },
  {
   "cell_type": "markdown",
   "metadata": {},
   "source": [
    "## 嵌套if 和多向if-elif-else\n",
    "![](../Photo/35.png)"
   ]
  },
  {
   "cell_type": "markdown",
   "metadata": {},
   "source": [
    "## EP：\n",
    "- 提示用户输入一个年份，然后显示表示这一年的动物\n",
    "![](../Photo/36.png)\n",
    "- 计算身体质量指数的程序\n",
    "- BMI = 以千克为单位的体重除以以米为单位的身高的平方\n",
    "![](../Photo/37.png)"
   ]
  },
  {
   "cell_type": "code",
   "execution_count": 3,
   "metadata": {},
   "outputs": [
    {
     "name": "stdout",
     "output_type": "stream",
     "text": [
      "请输入年份：2019\n",
      "猪\n"
     ]
    }
   ],
   "source": [
    "year=eval(input('请输入年份：'))\n",
    "if year%12==0:\n",
    "    print('猴')\n",
    "elif year%12==1:\n",
    "    print('鸡')\n",
    "elif year%12==2:\n",
    "    print('狗')\n",
    "elif year%12==3:\n",
    "    print('猪')\n",
    "elif year%12==4:\n",
    "    print('鼠')\n",
    "elif year%12==5:\n",
    "    print('牛')\n",
    "elif year%12==6:\n",
    "    print('虎')\n",
    "elif year%12==7:\n",
    "    print('兔')\n",
    "elif year%12==8:\n",
    "    print('龙')\n",
    "elif year%12==9:\n",
    "    print('蛇')\n",
    "elif year%12==10:\n",
    "    print('马')\n",
    "elif year%12==11:\n",
    "    print('羊')"
   ]
  },
  {
   "cell_type": "code",
   "execution_count": 7,
   "metadata": {},
   "outputs": [
    {
     "name": "stdout",
     "output_type": "stream",
     "text": [
      "请输入身高：1.6\n",
      "请输入体重40\n",
      "超轻\n"
     ]
    }
   ],
   "source": [
    "tell=eval(input('请输入身高：'))\n",
    "kg=eval(input('请输入体重'))\n",
    "bmi=kg/(tell*tell)\n",
    "if bmi<18.5:\n",
    "    print('超轻')\n",
    "elif bmi<25:\n",
    "    print('标准')\n",
    "elif bmi<30:\n",
    "    print('超重')\n",
    "else:\n",
    "    print('痴胖')"
   ]
  },
  {
   "cell_type": "markdown",
   "metadata": {},
   "source": [
    "## 逻辑运算符\n",
    "![](../Photo/38.png)"
   ]
  },
  {
   "cell_type": "markdown",
   "metadata": {},
   "source": [
    "![](../Photo/39.png)\n",
    "![](../Photo/40.png)"
   ]
  },
  {
   "cell_type": "markdown",
   "metadata": {},
   "source": [
    "## EP：\n",
    "- 判定闰年：一个年份如果能被4整除但不能被100整除，或者能被400整除，那么这个年份就是闰年\n",
    "- 提示用户输入一个年份，并返回是否是闰年\n",
    "- 提示用户输入一个数字，判断其是否为水仙花数"
   ]
  },
  {
   "cell_type": "code",
   "execution_count": 8,
   "metadata": {},
   "outputs": [
    {
     "name": "stdout",
     "output_type": "stream",
     "text": [
      "请输入年份：2019\n",
      "平年\n"
     ]
    }
   ],
   "source": [
    "year=eval(input('请输入年份：'))\n",
    "if (year%4==0 and year%100!=0) or year%400==0:\n",
    "    print('闰年')\n",
    "else:\n",
    "    print('平年')"
   ]
  },
  {
   "cell_type": "markdown",
   "metadata": {},
   "source": [
    "## 实例研究：彩票\n",
    "![](../Photo/41.png)"
   ]
  },
  {
   "cell_type": "code",
   "execution_count": 10,
   "metadata": {},
   "outputs": [],
   "source": [
    "import random"
   ]
  },
  {
   "cell_type": "code",
   "execution_count": 12,
   "metadata": {},
   "outputs": [
    {
     "name": "stdout",
     "output_type": "stream",
     "text": [
      "65\n",
      "请输入一个两位数56\n",
      "奖励$3000\n"
     ]
    }
   ],
   "source": [
    "num=random.randint(10,99)\n",
    "print(num)\n",
    "num1=eval(input('请输入一个两位数'))\n",
    "if num1==num:\n",
    "    print('奖励$10000')\n",
    "elif num1%10==num//10 and num1//10==num%10:\n",
    "    print('奖励$3000')\n",
    "elif num1%10==num%10 or num1//10==num//10:\n",
    "    print('奖励$1000')\n",
    "#num[0]如果num是字符串类型，切片第一位"
   ]
  },
  {
   "cell_type": "markdown",
   "metadata": {},
   "source": [
    "# Homework\n",
    "- 1\n",
    "![](../Photo/42.png)"
   ]
  },
  {
   "cell_type": "code",
   "execution_count": 15,
   "metadata": {},
   "outputs": [
    {
     "name": "stdout",
     "output_type": "stream",
     "text": [
      "a,b,c1,2,3\n",
      "the equation has no real roots\n"
     ]
    }
   ],
   "source": [
    "a,b,c=eval(input('a,b,c'))\n",
    "d=b**2-4*a*c\n",
    "if d>0:\n",
    "    x1=(-b+d**(1/2))/2*a\n",
    "    x2=(-b-d**(1/2))/2*a\n",
    "    print('roots are',x1,'and',x2)\n",
    "elif d==0:\n",
    "    x=(-b)/2*a\n",
    "    print('root is',x)\n",
    "else:\n",
    "    print('the equation has no real roots')"
   ]
  },
  {
   "cell_type": "markdown",
   "metadata": {},
   "source": [
    "- 2\n",
    "![](../Photo/43.png)"
   ]
  },
  {
   "cell_type": "code",
   "execution_count": 16,
   "metadata": {},
   "outputs": [
    {
     "name": "stdout",
     "output_type": "stream",
     "text": [
      "119\n",
      "请输入一个整数119\n",
      "真\n"
     ]
    }
   ],
   "source": [
    "num1=random.randint(0,100)\n",
    "num2=random.randint(0,100)\n",
    "num=num1+num2\n",
    "print(num)\n",
    "num_=eval(input('请输入一个整数'))\n",
    "if num_==num:\n",
    "    print('真')\n",
    "else:\n",
    "    print('假')"
   ]
  },
  {
   "cell_type": "markdown",
   "metadata": {},
   "source": [
    "- 3\n",
    "![](../Photo/44.png)"
   ]
  },
  {
   "cell_type": "code",
   "execution_count": 18,
   "metadata": {},
   "outputs": [
    {
     "name": "stdout",
     "output_type": "stream",
     "text": [
      "请输入今天星期几和几天后0,31\n",
      "星期3\n"
     ]
    }
   ],
   "source": [
    "today,day=eval(input('请输入今天星期几和几天后'))\n",
    "week=(today+day)%7\n",
    "print('星期',week,sep=\"\")"
   ]
  },
  {
   "cell_type": "markdown",
   "metadata": {},
   "source": [
    "- 4\n",
    "![](../Photo/45.png)"
   ]
  },
  {
   "cell_type": "code",
   "execution_count": 21,
   "metadata": {},
   "outputs": [
    {
     "name": "stdout",
     "output_type": "stream",
     "text": [
      "请输入三个数7,6,5\n",
      "5 6 7\n"
     ]
    }
   ],
   "source": [
    "a,b,c=eval(input('请输入三个数'))\n",
    "if a>=b:\n",
    "    if b>=c:\n",
    "        print(c,b,a)\n",
    "    elif a>=c:\n",
    "        print(b,c,a)\n",
    "    else:\n",
    "        print(b,a,c)\n",
    "elif b<=c:\n",
    "    print(a,b,c)\n",
    "elif a>=c:\n",
    "    print(c,a,b)\n",
    "else:\n",
    "    print(a,c,b)"
   ]
  },
  {
   "cell_type": "markdown",
   "metadata": {},
   "source": [
    "- 5\n",
    "![](../Photo/46.png)"
   ]
  },
  {
   "cell_type": "code",
   "execution_count": 23,
   "metadata": {
    "scrolled": true
   },
   "outputs": [
    {
     "name": "stdout",
     "output_type": "stream",
     "text": [
      "weight and price50,24.59\n",
      "weight and price25,11.99\n",
      "package2\n"
     ]
    }
   ],
   "source": [
    "weight1,price1=eval(input('weight and price'))\n",
    "weight2,price2=eval(input('weight and price'))\n",
    "danjia1=price1/weight1\n",
    "danjia2=price2/weight2\n",
    "if danjia1>danjia2:\n",
    "    print('package2')\n",
    "elif danjia1>danjia2:\n",
    "    print('package1')\n",
    "else:\n",
    "    print('都可以')"
   ]
  },
  {
   "cell_type": "markdown",
   "metadata": {},
   "source": [
    "- 6\n",
    "![](../Photo/47.png)"
   ]
  },
  {
   "cell_type": "code",
   "execution_count": 30,
   "metadata": {},
   "outputs": [
    {
     "name": "stdout",
     "output_type": "stream",
     "text": [
      "请输入年和月2005,3\n",
      "2005 年 3 有31天\n"
     ]
    }
   ],
   "source": [
    "year,yue=eval(input('请输入年和月'))\n",
    "if (year%4==0 and year%100!=0) or year%400==0:\n",
    "    if yue==2:\n",
    "        print(year,'年',yue,'有29天')\n",
    "    elif yue%2==1:\n",
    "        print(year,'年',yue,'有31天')\n",
    "    else:\n",
    "        print(year,'年',yue,'有30天')\n",
    "else:\n",
    "    if yue==2:\n",
    "        print(year,'年',yue,'有28天')\n",
    "    elif yue%2==1:\n",
    "        print(year,'年',yue,'有31天')\n",
    "    else:\n",
    "        print(year,'年',yue,'有30天')\n",
    "        "
   ]
  },
  {
   "cell_type": "markdown",
   "metadata": {},
   "source": [
    "- 7\n",
    "![](../Photo/48.png)"
   ]
  },
  {
   "cell_type": "code",
   "execution_count": 34,
   "metadata": {},
   "outputs": [
    {
     "name": "stdout",
     "output_type": "stream",
     "text": [
      "0为正面，1为反面:1\n",
      "错误\n"
     ]
    }
   ],
   "source": [
    "yingbi=random.randint(0,1)\n",
    "caice=eval(input('0为正面，1为反面:'))\n",
    "if caice==yingbi:\n",
    "    print('正确')\n",
    "else:\n",
    "    print('错误')"
   ]
  },
  {
   "cell_type": "markdown",
   "metadata": {},
   "source": [
    "- 8\n",
    "![](../Photo/49.png)"
   ]
  },
  {
   "cell_type": "code",
   "execution_count": 73,
   "metadata": {},
   "outputs": [
    {
     "name": "stdout",
     "output_type": "stream",
     "text": [
      "1\n",
      "剪刀0，石头1，布2:0\n",
      "it is a game\n"
     ]
    }
   ],
   "source": [
    "me=random.randint(0,2)\n",
    "print(me)\n",
    "you=eval(input('剪刀0，石头1，布2:'))\n",
    "if you==me:\n",
    "    print('平局')\n",
    "elif me==0 and you==2:\n",
    "    print('it is a game')\n",
    "elif me==2 and you==0:\n",
    "    print('you won')\n",
    "elif me>you:\n",
    "    print('it is a game')\n",
    "else:\n",
    "    print('you won')"
   ]
  },
  {
   "cell_type": "markdown",
   "metadata": {},
   "source": [
    "- 9\n",
    "![](../Photo/50.png)"
   ]
  },
  {
   "cell_type": "code",
   "execution_count": 71,
   "metadata": {},
   "outputs": [
    {
     "name": "stdout",
     "output_type": "stream",
     "text": [
      "请输入年份2012\n",
      "请输入月份5\n",
      "请输入天12\n",
      "星期6\n"
     ]
    }
   ],
   "source": [
    "year=eval(input('请输入年份'))\n",
    "month=eval(input('请输入月份'))\n",
    "day=eval(input('请输入天'))\n",
    "if month<3:\n",
    "    year=year-1\n",
    "    month=month+12\n",
    "j=year//100\n",
    "k=year%100\n",
    "a=(26*(month+1)//10)+k\n",
    "b=k//4+j//4+5*j\n",
    "h=(day+a+b-1)%7\n",
    "print('星期',h,sep='')"
   ]
  },
  {
   "cell_type": "code",
   "execution_count": null,
   "metadata": {},
   "outputs": [],
   "source": []
  },
  {
   "cell_type": "markdown",
   "metadata": {},
   "source": [
    "- 10\n",
    "![](../Photo/51.png)"
   ]
  },
  {
   "cell_type": "code",
   "execution_count": 52,
   "metadata": {},
   "outputs": [
    {
     "name": "stdout",
     "output_type": "stream",
     "text": [
      "梅花Q\n"
     ]
    }
   ],
   "source": [
    "daxiao=random.randint(1,13)\n",
    "huase=random.randint(1,4)\n",
    "if daxiao==1:\n",
    "    daxiao='A'\n",
    "elif daxiao==11:\n",
    "    daxiao='J'\n",
    "elif daxiao==12:\n",
    "    daxiao='Q'\n",
    "elif daxiao==13:\n",
    "    daxiao='K'\n",
    "if huase==1:\n",
    "    huase='梅花'\n",
    "elif huase==2:\n",
    "    huase='红桃'\n",
    "elif huase==3:\n",
    "    huase='方块'\n",
    "elif huase==4:\n",
    "    huase='黑桃'\n",
    "print(huase,daxiao,sep='')\n"
   ]
  },
  {
   "cell_type": "markdown",
   "metadata": {},
   "source": [
    "- 11\n",
    "![](../Photo/52.png)"
   ]
  },
  {
   "cell_type": "code",
   "execution_count": 54,
   "metadata": {},
   "outputs": [
    {
     "name": "stdout",
     "output_type": "stream",
     "text": [
      "请输入一个三位数123\n",
      "123 is not a palindrome\n"
     ]
    }
   ],
   "source": [
    "number=eval(input('请输入一个三位数'))\n",
    "if number%10==number//100:\n",
    "    print(number,'is a palindrome')\n",
    "else:\n",
    "    print(number,'is not a palindrome')"
   ]
  },
  {
   "cell_type": "code",
   "execution_count": 60,
   "metadata": {},
   "outputs": [
    {
     "name": "stdout",
     "output_type": "stream",
     "text": [
      "请输入一个整数：12321\n",
      "12321 is a palindrome\n"
     ]
    }
   ],
   "source": [
    "num=input('请输入一个整数：')\n",
    "num1=num[::-1]\n",
    "if num==num1:\n",
    "    print(num,'is a palindrome')\n",
    "else:\n",
    "    print(num,'is not a palindrome')"
   ]
  },
  {
   "cell_type": "markdown",
   "metadata": {},
   "source": [
    "- 12\n",
    "![](../Photo/53.png)"
   ]
  },
  {
   "cell_type": "code",
   "execution_count": 58,
   "metadata": {},
   "outputs": [
    {
     "name": "stdout",
     "output_type": "stream",
     "text": [
      "请输入三角形三边长：1,1,1\n",
      "3\n"
     ]
    }
   ],
   "source": [
    "a,b,c=eval(input('请输入三角形三边长：'))\n",
    "if (a+b)>c and (a+c)>b and (b+c)>a:\n",
    "    zhouchang=a+b+c\n",
    "    print(zhouchang)\n",
    "else:\n",
    "    print('不是三角形')"
   ]
  },
  {
   "cell_type": "code",
   "execution_count": null,
   "metadata": {},
   "outputs": [],
   "source": []
  }
 ],
 "metadata": {
  "kernelspec": {
   "display_name": "Python 3",
   "language": "python",
   "name": "python3"
  },
  "language_info": {
   "codemirror_mode": {
    "name": "ipython",
    "version": 3
   },
   "file_extension": ".py",
   "mimetype": "text/x-python",
   "name": "python",
   "nbconvert_exporter": "python",
   "pygments_lexer": "ipython3",
   "version": "3.6.4"
  }
 },
 "nbformat": 4,
 "nbformat_minor": 2
}
