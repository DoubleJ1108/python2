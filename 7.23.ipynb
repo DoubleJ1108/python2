{
 "cells": [
  {
   "cell_type": "markdown",
   "metadata": {},
   "source": [
    "# 对象和类\n",
    "- 一个学生，一张桌子，一个圆都是对象\n",
    "- 对象是类的一个实例，你可以创建多个对象，创建类的一个实例过程被称为实例化，\n",
    "- 在Python中对象就是实例，而实例就是对象"
   ]
  },
  {
   "cell_type": "markdown",
   "metadata": {},
   "source": [
    "## 定义类\n",
    "class ClassName:\n",
    "\n",
    "    do something\n",
    "    \n",
    "- class 类的表示与def 一样\n",
    "- 类名最好使用驼峰式\n",
    "- 在Python2中类是需要继承基类object的，在Python中默认继承，可写可不写\n",
    "- 可以将普通代码理解为皮肤，而函数可以理解为内衣，那么类可以理解为外套"
   ]
  },
  {
   "cell_type": "markdown",
   "metadata": {},
   "source": [
    "## 定义一个不含初始化__init__的简单类\n",
    "class ClassName:\n",
    "\n",
    "    joker = “Home”\n",
    "    \n",
    "    def func():\n",
    "        print('Worker')\n",
    "    \n",
    "- 尽量少使用"
   ]
  },
  {
   "cell_type": "markdown",
   "metadata": {},
   "source": [
    "\n",
    "\n",
    "## 定义一个标准类\n",
    "- __init__ 代表初始化，可以初始化任何动作\n",
    "- 此时类调用要使用()，其中（）可以理解为开始初始化\n",
    "- 初始化内的元素，类中其他的函数可以共享\n",
    "![](../Photo/85.png)"
   ]
  },
  {
   "cell_type": "code",
   "execution_count": 17,
   "metadata": {},
   "outputs": [],
   "source": [
    "#一切类必须要初始化\n",
    "#在类中，所有函数的第一个参数，都是标标识量，不是参数\n",
    "#若某一个参数需要多次使用，那么可以将其统一放在初始化函数中既参数共享\n",
    "class jj:\n",
    "    def __init__(self,num1,num2):#self是标识量\n",
    "        print('chushihua')\n",
    "        self.num1=num1\n",
    "        self.num2=num2\n",
    "    def sum_(self):\n",
    "        return self.num1+self.num2\n",
    "    def cheng(self):\n",
    "        return self.num1*self.num2"
   ]
  },
  {
   "cell_type": "code",
   "execution_count": 18,
   "metadata": {},
   "outputs": [
    {
     "name": "stdout",
     "output_type": "stream",
     "text": [
      "chushihua\n"
     ]
    }
   ],
   "source": [
    "w=jj(1,2)"
   ]
  },
  {
   "cell_type": "code",
   "execution_count": 19,
   "metadata": {},
   "outputs": [
    {
     "data": {
      "text/plain": [
       "3"
      ]
     },
     "execution_count": 19,
     "metadata": {},
     "output_type": "execute_result"
    }
   ],
   "source": [
    "w.sum_()"
   ]
  },
  {
   "cell_type": "code",
   "execution_count": 20,
   "metadata": {},
   "outputs": [
    {
     "data": {
      "text/plain": [
       "2"
      ]
     },
     "execution_count": 20,
     "metadata": {},
     "output_type": "execute_result"
    }
   ],
   "source": [
    "w.cheng()"
   ]
  },
  {
   "cell_type": "markdown",
   "metadata": {},
   "source": [
    "- Circle 和 className_ 的第一个区别有 __init__ 这个函数\n",
    "- 。。。。   第二个区别，类中的每一个函数都有self的这个“参数”"
   ]
  },
  {
   "cell_type": "markdown",
   "metadata": {},
   "source": [
    "## 何为self？\n",
    "- self 是指向对象本身的参数\n",
    "- self 只是一个命名规则，其实可以改变的，但是我们约定俗成的是self，也便于理解\n",
    "- 使用了self就可以访问类中定义的成员\n",
    "<img src=\"../Photo/86.png\"></img>"
   ]
  },
  {
   "cell_type": "markdown",
   "metadata": {},
   "source": [
    "## 使用类 Cirlcle"
   ]
  },
  {
   "cell_type": "markdown",
   "metadata": {},
   "source": [
    "## 类的传参\n",
    "- class ClassName:\n",
    "    \n",
    "        def __init__(self, para1,para2...)：\n",
    "            \n",
    "            self.para1 = para1\n",
    "            \n",
    "            self.para2 = para2"
   ]
  },
  {
   "cell_type": "markdown",
   "metadata": {},
   "source": [
    "## EP:\n",
    "- A：定义一个类，类中含有两个功能：\n",
    "    - 1、计算随机数的最大值\n",
    "    - 2、计算随机数的最小值\n",
    "- B：定义一个类，（类中函数的嵌套使用）\n",
    "    - 1、第一个函数的功能为：输入一个数字\n",
    "    - 2、第二个函数的功能为：使用第一个函数中得到的数字进行平方处理\n",
    "    - 3、第三个函数的功能为：得到平方处理后的数字 - 原来输入的数字，并打印结果"
   ]
  },
  {
   "cell_type": "code",
   "execution_count": 27,
   "metadata": {},
   "outputs": [],
   "source": [
    "class daxiao:\n",
    "    def __init__(self,num1,num2,num3):\n",
    "        self.num1=num1\n",
    "        self.num2=num2\n",
    "        self.num3=num3\n",
    "        print(num1,num2,num3)\n",
    "    def max_(self):\n",
    "        a=max(self.num1,self.num2,self.num3)\n",
    "        print(a)\n",
    "    def min_(self):\n",
    "        b=min(self.num1,self.num2,self.num3)\n",
    "        print(b)\n",
    "        "
   ]
  },
  {
   "cell_type": "code",
   "execution_count": 23,
   "metadata": {},
   "outputs": [],
   "source": [
    "import random"
   ]
  },
  {
   "cell_type": "code",
   "execution_count": 28,
   "metadata": {},
   "outputs": [
    {
     "name": "stdout",
     "output_type": "stream",
     "text": [
      "2 7 5\n"
     ]
    }
   ],
   "source": [
    "num1=random.randint(1,9)\n",
    "num2=random.randint(1,9)\n",
    "num3=random.randint(1,9)\n",
    "dx=daxiao(num1,num2,num3)"
   ]
  },
  {
   "cell_type": "code",
   "execution_count": 29,
   "metadata": {},
   "outputs": [
    {
     "name": "stdout",
     "output_type": "stream",
     "text": [
      "7\n"
     ]
    }
   ],
   "source": [
    "dx.max_()"
   ]
  },
  {
   "cell_type": "code",
   "execution_count": 30,
   "metadata": {},
   "outputs": [
    {
     "name": "stdout",
     "output_type": "stream",
     "text": [
      "2\n"
     ]
    }
   ],
   "source": [
    "dx.min_()"
   ]
  },
  {
   "cell_type": "code",
   "execution_count": 41,
   "metadata": {},
   "outputs": [],
   "source": [
    "class B:\n",
    "    def __init__(self):\n",
    "        pass\n",
    "    def num_(self):\n",
    "        self.num1=eval(input('请输入一个数'))\n",
    "    def pingfang(self):\n",
    "        self.a=self.num1**2#num=self.num_()\n",
    "    def cha(self):\n",
    "        b=self.a-self.num1\n",
    "        return b"
   ]
  },
  {
   "cell_type": "code",
   "execution_count": 42,
   "metadata": {},
   "outputs": [],
   "source": [
    "wjj=B()"
   ]
  },
  {
   "cell_type": "code",
   "execution_count": 43,
   "metadata": {},
   "outputs": [
    {
     "name": "stdout",
     "output_type": "stream",
     "text": [
      "请输入一个数2\n"
     ]
    },
    {
     "data": {
      "text/plain": [
       "2"
      ]
     },
     "execution_count": 43,
     "metadata": {},
     "output_type": "execute_result"
    }
   ],
   "source": [
    "wjj.num_()\n",
    "wjj.pingfang()\n",
    "wjj.cha()"
   ]
  },
  {
   "cell_type": "code",
   "execution_count": 77,
   "metadata": {},
   "outputs": [],
   "source": [
    "class qqemail:\n",
    "    def __init__(self):\n",
    "        self.qq='1333'\n",
    "        self.mima_='wjjdmn'\n",
    "    def zhanghao(self):\n",
    "        self.zh=input('请输入账号：')\n",
    "    def mima(self):\n",
    "        mm=input('请输入密码：')\n",
    "        if mm==self.mima_ and self.zh==self.qq:\n",
    "            print('登录成功')\n",
    "        else:\n",
    "            def yzm():\n",
    "                y=''\n",
    "                for j in range(0,4):\n",
    "                    a=random.randint(1,3)\n",
    "                    if a==1:\n",
    "                        b=random.randint(97,122)\n",
    "                        i=chr(b)\n",
    "                    elif a==2:\n",
    "                        b=random.randint(65,90)\n",
    "                        i=chr(b)\n",
    "                    else:\n",
    "                        b=random.randint(0,9)\n",
    "                        i=str(b)\n",
    "                    y+=i\n",
    "                return y\n",
    "            while 1:\n",
    "                yzm_=yzm()\n",
    "                print(yzm_)\n",
    "                shuru=input('请输入验证码：')\n",
    "                if shuru == yzm_:\n",
    "                    print('账号或密码错误')\n",
    "                    break\n",
    "                else:\n",
    "                    print('验证码输入错误，请重新输入')"
   ]
  },
  {
   "cell_type": "code",
   "execution_count": 78,
   "metadata": {},
   "outputs": [],
   "source": [
    "email=qqemail()"
   ]
  },
  {
   "cell_type": "code",
   "execution_count": 79,
   "metadata": {},
   "outputs": [
    {
     "name": "stdout",
     "output_type": "stream",
     "text": [
      "请输入账号：1333\n",
      "请输入密码：wjjdmn\n",
      "登录成功\n"
     ]
    }
   ],
   "source": [
    "email.zhanghao()\n",
    "email.mima()"
   ]
  },
  {
   "cell_type": "code",
   "execution_count": 80,
   "metadata": {},
   "outputs": [],
   "source": [
    "import pymysql"
   ]
  },
  {
   "cell_type": "code",
   "execution_count": 81,
   "metadata": {},
   "outputs": [
    {
     "ename": "AttributeError",
     "evalue": "module 'socket' has no attribute 'AF_UNIX'",
     "output_type": "error",
     "traceback": [
      "\u001b[1;31m---------------------------------------------------------------------------\u001b[0m",
      "\u001b[1;31mAttributeError\u001b[0m                            Traceback (most recent call last)",
      "\u001b[1;32m<ipython-input-81-a53d234a3208>\u001b[0m in \u001b[0;36m<module>\u001b[1;34m()\u001b[0m\n\u001b[0;32m      1\u001b[0m \u001b[1;31m#获取一个数据库连接\u001b[0m\u001b[1;33m\u001b[0m\u001b[1;33m\u001b[0m\u001b[0m\n\u001b[1;32m----> 2\u001b[1;33m \u001b[0mconn\u001b[0m\u001b[1;33m=\u001b[0m\u001b[0mpymysql\u001b[0m\u001b[1;33m.\u001b[0m\u001b[0mconnect\u001b[0m\u001b[1;33m(\u001b[0m\u001b[1;34m\"localhost\"\u001b[0m\u001b[1;33m,\u001b[0m\u001b[1;34m\"root\"\u001b[0m\u001b[1;33m,\u001b[0m\u001b[1;34m\"981218\"\u001b[0m\u001b[1;33m,\u001b[0m\u001b[1;34m\"wang100\"\u001b[0m\u001b[1;33m,\u001b[0m\u001b[1;36m3306\u001b[0m\u001b[1;33m,\u001b[0m\u001b[1;34m\"utf8\"\u001b[0m\u001b[1;33m)\u001b[0m\u001b[1;33m\u001b[0m\u001b[0m\n\u001b[0m\u001b[0;32m      3\u001b[0m \u001b[0mprint\u001b[0m\u001b[1;33m(\u001b[0m\u001b[0mconn\u001b[0m\u001b[1;33m)\u001b[0m\u001b[1;33m\u001b[0m\u001b[0m\n\u001b[0;32m      4\u001b[0m \u001b[0mcur\u001b[0m\u001b[1;33m=\u001b[0m\u001b[0mconn\u001b[0m\u001b[1;33m.\u001b[0m\u001b[0mcursor\u001b[0m\u001b[1;33m(\u001b[0m\u001b[1;33m)\u001b[0m\u001b[1;31m#获取一个游标\u001b[0m\u001b[1;33m\u001b[0m\u001b[0m\n\u001b[0;32m      5\u001b[0m \u001b[0mcur\u001b[0m\u001b[1;33m.\u001b[0m\u001b[0mexecute\u001b[0m\u001b[1;33m(\u001b[0m\u001b[1;34m'select * from departments'\u001b[0m\u001b[1;33m)\u001b[0m\u001b[1;33m\u001b[0m\u001b[0m\n",
      "\u001b[1;32mD:\\ANACONDA\\lib\\site-packages\\pymysql\\__init__.py\u001b[0m in \u001b[0;36mConnect\u001b[1;34m(*args, **kwargs)\u001b[0m\n\u001b[0;32m     92\u001b[0m     \"\"\"\n\u001b[0;32m     93\u001b[0m     \u001b[1;32mfrom\u001b[0m \u001b[1;33m.\u001b[0m\u001b[0mconnections\u001b[0m \u001b[1;32mimport\u001b[0m \u001b[0mConnection\u001b[0m\u001b[1;33m\u001b[0m\u001b[0m\n\u001b[1;32m---> 94\u001b[1;33m     \u001b[1;32mreturn\u001b[0m \u001b[0mConnection\u001b[0m\u001b[1;33m(\u001b[0m\u001b[1;33m*\u001b[0m\u001b[0margs\u001b[0m\u001b[1;33m,\u001b[0m \u001b[1;33m**\u001b[0m\u001b[0mkwargs\u001b[0m\u001b[1;33m)\u001b[0m\u001b[1;33m\u001b[0m\u001b[0m\n\u001b[0m\u001b[0;32m     95\u001b[0m \u001b[1;33m\u001b[0m\u001b[0m\n\u001b[0;32m     96\u001b[0m \u001b[1;32mfrom\u001b[0m \u001b[1;33m.\u001b[0m \u001b[1;32mimport\u001b[0m \u001b[0mconnections\u001b[0m \u001b[1;32mas\u001b[0m \u001b[0m_orig_conn\u001b[0m\u001b[1;33m\u001b[0m\u001b[0m\n",
      "\u001b[1;32mD:\\ANACONDA\\lib\\site-packages\\pymysql\\connections.py\u001b[0m in \u001b[0;36m__init__\u001b[1;34m(self, host, user, password, database, port, unix_socket, charset, sql_mode, read_default_file, conv, use_unicode, client_flag, cursorclass, init_command, connect_timeout, ssl, read_default_group, compress, named_pipe, autocommit, db, passwd, local_infile, max_allowed_packet, defer_connect, auth_plugin_map, read_timeout, write_timeout, bind_address, binary_prefix, program_name, server_public_key)\u001b[0m\n\u001b[0;32m    323\u001b[0m             \u001b[0mself\u001b[0m\u001b[1;33m.\u001b[0m\u001b[0m_sock\u001b[0m \u001b[1;33m=\u001b[0m \u001b[1;32mNone\u001b[0m\u001b[1;33m\u001b[0m\u001b[0m\n\u001b[0;32m    324\u001b[0m         \u001b[1;32melse\u001b[0m\u001b[1;33m:\u001b[0m\u001b[1;33m\u001b[0m\u001b[0m\n\u001b[1;32m--> 325\u001b[1;33m             \u001b[0mself\u001b[0m\u001b[1;33m.\u001b[0m\u001b[0mconnect\u001b[0m\u001b[1;33m(\u001b[0m\u001b[1;33m)\u001b[0m\u001b[1;33m\u001b[0m\u001b[0m\n\u001b[0m\u001b[0;32m    326\u001b[0m \u001b[1;33m\u001b[0m\u001b[0m\n\u001b[0;32m    327\u001b[0m     \u001b[1;32mdef\u001b[0m \u001b[0m_create_ssl_ctx\u001b[0m\u001b[1;33m(\u001b[0m\u001b[0mself\u001b[0m\u001b[1;33m,\u001b[0m \u001b[0msslp\u001b[0m\u001b[1;33m)\u001b[0m\u001b[1;33m:\u001b[0m\u001b[1;33m\u001b[0m\u001b[0m\n",
      "\u001b[1;32mD:\\ANACONDA\\lib\\site-packages\\pymysql\\connections.py\u001b[0m in \u001b[0;36mconnect\u001b[1;34m(self, sock)\u001b[0m\n\u001b[0;32m    567\u001b[0m             \u001b[1;32mif\u001b[0m \u001b[0msock\u001b[0m \u001b[1;32mis\u001b[0m \u001b[1;32mNone\u001b[0m\u001b[1;33m:\u001b[0m\u001b[1;33m\u001b[0m\u001b[0m\n\u001b[0;32m    568\u001b[0m                 \u001b[1;32mif\u001b[0m \u001b[0mself\u001b[0m\u001b[1;33m.\u001b[0m\u001b[0munix_socket\u001b[0m\u001b[1;33m:\u001b[0m\u001b[1;33m\u001b[0m\u001b[0m\n\u001b[1;32m--> 569\u001b[1;33m                     \u001b[0msock\u001b[0m \u001b[1;33m=\u001b[0m \u001b[0msocket\u001b[0m\u001b[1;33m.\u001b[0m\u001b[0msocket\u001b[0m\u001b[1;33m(\u001b[0m\u001b[0msocket\u001b[0m\u001b[1;33m.\u001b[0m\u001b[0mAF_UNIX\u001b[0m\u001b[1;33m,\u001b[0m \u001b[0msocket\u001b[0m\u001b[1;33m.\u001b[0m\u001b[0mSOCK_STREAM\u001b[0m\u001b[1;33m)\u001b[0m\u001b[1;33m\u001b[0m\u001b[0m\n\u001b[0m\u001b[0;32m    570\u001b[0m                     \u001b[0msock\u001b[0m\u001b[1;33m.\u001b[0m\u001b[0msettimeout\u001b[0m\u001b[1;33m(\u001b[0m\u001b[0mself\u001b[0m\u001b[1;33m.\u001b[0m\u001b[0mconnect_timeout\u001b[0m\u001b[1;33m)\u001b[0m\u001b[1;33m\u001b[0m\u001b[0m\n\u001b[0;32m    571\u001b[0m                     \u001b[0msock\u001b[0m\u001b[1;33m.\u001b[0m\u001b[0mconnect\u001b[0m\u001b[1;33m(\u001b[0m\u001b[0mself\u001b[0m\u001b[1;33m.\u001b[0m\u001b[0munix_socket\u001b[0m\u001b[1;33m)\u001b[0m\u001b[1;33m\u001b[0m\u001b[0m\n",
      "\u001b[1;31mAttributeError\u001b[0m: module 'socket' has no attribute 'AF_UNIX'"
     ]
    }
   ],
   "source": [
    "#获取一个数据库连接\n",
    "conn=pymysql.connect(\"localhost\",\"root\",\"981218\",\"wang100\",3306,\"utf8\")\n",
    "print(conn)\n",
    "cur=conn.cursor()#获取一个游标\n",
    "cur.execute('select * from departments')\n",
    "data=cur.fetchall()\n",
    "for d in data:\n",
    "    print(d)\n"
   ]
  },
  {
   "cell_type": "markdown",
   "metadata": {},
   "source": [
    "## 类的继承\n",
    "- 类的单继承\n",
    "- 类的多继承\n",
    "- 继承标识\n",
    ">  class SonClass(FatherClass):\n",
    "            \n",
    "            def __init__(self):\n",
    "            \n",
    "                FatherClass.__init__(self)"
   ]
  },
  {
   "cell_type": "markdown",
   "metadata": {},
   "source": [
    "## 私有数据域(私有变量，或者私有函数)\n",
    "- 在Python中 变量名或者函数名使用双下划线代表私有  \\__Joker,   def \\__Joker():\n",
    "- 私有数据域不可继承\n",
    "- 私有数据域强制继承   \\__dir__()"
   ]
  },
  {
   "cell_type": "markdown",
   "metadata": {},
   "source": [
    "![](../Photo/87.png)"
   ]
  },
  {
   "cell_type": "code",
   "execution_count": null,
   "metadata": {},
   "outputs": [],
   "source": [
    "#@staticmethod 静态调用方法\n",
    "#@classmethod"
   ]
  },
  {
   "cell_type": "markdown",
   "metadata": {},
   "source": [
    "## EP:\n",
    "![](../Photo/88.png)\n",
    "![](../Photo/89.png)\n",
    "![](../Photo/90.png)\n"
   ]
  },
  {
   "cell_type": "markdown",
   "metadata": {},
   "source": [
    "## 类的其他\n",
    "- 类的封装\n",
    "    - 实际上就是将一类功能放在一起，方便未来进行管理\n",
    "- 类的继承（上面已经讲过）\n",
    "- 类的多态\n",
    "    - 包括装饰器：将放在以后处理高级类中教\n",
    "    - 装饰器的好处：当许多类中的函数需要使用同一个功能的时候，那么使用装饰器就会方便许多\n",
    "    - 装饰器是有固定的写法\n",
    "        - 其包括普通装饰器与带参装饰器"
   ]
  },
  {
   "cell_type": "markdown",
   "metadata": {},
   "source": [
    "# Homewor\n",
    "## UML类图可以不用画\n",
    "## UML 实际上就是一个思维图\n",
    "- 1\n",
    "![](../Photo/91.png)"
   ]
  },
  {
   "cell_type": "code",
   "execution_count": 171,
   "metadata": {},
   "outputs": [],
   "source": [
    "#矩形周长和面积\n",
    "class uml:\n",
    "    def __init__(self,w=1,h=2):\n",
    "        self.w=w\n",
    "        self.h=h\n",
    "        print('宽：',self.w)\n",
    "        print('高：',self.h)\n",
    "    def area(self):\n",
    "        mj=self.w*self.h\n",
    "        print('面积：',mj)\n",
    "    def zhouchang(self):\n",
    "        zc=2*self.w+2*self.h\n",
    "        print('周长：',zc)"
   ]
  },
  {
   "cell_type": "code",
   "execution_count": 172,
   "metadata": {},
   "outputs": [
    {
     "name": "stdout",
     "output_type": "stream",
     "text": [
      "宽： 4\n",
      "高： 40\n"
     ]
    }
   ],
   "source": [
    "jj=uml(4,40)"
   ]
  },
  {
   "cell_type": "code",
   "execution_count": 104,
   "metadata": {},
   "outputs": [
    {
     "name": "stdout",
     "output_type": "stream",
     "text": [
      "面积： 160\n",
      "周长： 88\n"
     ]
    }
   ],
   "source": [
    "jj.area()\n",
    "jj.zhouchang()"
   ]
  },
  {
   "cell_type": "markdown",
   "metadata": {},
   "source": [
    "- 2\n",
    "![](../Photo/92.png)"
   ]
  },
  {
   "cell_type": "code",
   "execution_count": 173,
   "metadata": {},
   "outputs": [],
   "source": [
    "class account:\n",
    "    def __init__(self,id_=0,balance=100,n_rate=0):\n",
    "        self.__id_=id_\n",
    "        self.__balance=balance\n",
    "        self.__n_rate=n_rate\n",
    "        print('账户的id是：',self.__id_)\n",
    "    def yuelilv(self):#月利率\n",
    "        self.yll=self.__balance*(self.__n_rate/12)/100\n",
    "        print('月利率为：',self.yll)\n",
    "    def yuelixi(self):#月利息\n",
    "        self.ylx=self.__balance*self.yll\n",
    "        print('月利息为：',self.ylx)\n",
    "    def withdraw(self):#取出指定金额\n",
    "        num=eval(input('请输入取钱金额：'))\n",
    "        self.__balance=self.__balance-num\n",
    "        print('账号里还有%d美元'%self.__balance)\n",
    "    def deposit(self):#存入指定数额\n",
    "        num1=eval(input('请输入存钱金额：'))\n",
    "        self.__balance=self.__balance+num1\n",
    "        print(\"账户剩余%d美元\"%self.__balance)\n",
    "        "
   ]
  },
  {
   "cell_type": "code",
   "execution_count": 174,
   "metadata": {},
   "outputs": [
    {
     "name": "stdout",
     "output_type": "stream",
     "text": [
      "账户的id是： 1122\n"
     ]
    }
   ],
   "source": [
    "acc=account(1122,20000,4.5)"
   ]
  },
  {
   "cell_type": "code",
   "execution_count": 123,
   "metadata": {},
   "outputs": [
    {
     "name": "stdout",
     "output_type": "stream",
     "text": [
      "月利率为： 75.0\n",
      "月利息为： 1500000.0\n",
      "请输入取钱金额：2500\n",
      "账号里还有17500美元\n",
      "请输入存钱金额：3000\n",
      "账户剩余20500美元\n"
     ]
    }
   ],
   "source": [
    "acc.yuelilv()\n",
    "acc.yuelixi()\n",
    "acc.withdraw()\n",
    "acc.deposit()"
   ]
  },
  {
   "cell_type": "markdown",
   "metadata": {},
   "source": [
    "- 3\n",
    "![](../Photo/93.png)"
   ]
  },
  {
   "cell_type": "code",
   "execution_count": 147,
   "metadata": {},
   "outputs": [],
   "source": [
    "#风扇\n",
    "class fan:\n",
    "    def __init__(self,slow=1,medium=2,fast=3):\n",
    "        self.slow=slow\n",
    "        self.medium=medium\n",
    "        self.fast=fast\n",
    "    def fan1(self,speed,on='false',radius=5,color='blue'):\n",
    "        self.__speed=speed\n",
    "        self.__on=on\n",
    "        self.__radius=radius\n",
    "        self.__color=color\n",
    "        if self.__on=='false':\n",
    "            on_='关闭状态'\n",
    "        else:\n",
    "            on_='打开状态'\n",
    "        print(\"风速为：%d,半径为：%d,颜色为：%s\"%(self.__speed,self.__radius,self.__color),on_)"
   ]
  },
  {
   "cell_type": "code",
   "execution_count": 148,
   "metadata": {},
   "outputs": [],
   "source": [
    "f=fan()"
   ]
  },
  {
   "cell_type": "code",
   "execution_count": 149,
   "metadata": {},
   "outputs": [
    {
     "name": "stdout",
     "output_type": "stream",
     "text": [
      "风速为：3,半径为：10,颜色为：yellow 打开状态\n"
     ]
    }
   ],
   "source": [
    "f.fan1(3,'trun',10,'yellow')"
   ]
  },
  {
   "cell_type": "code",
   "execution_count": 150,
   "metadata": {},
   "outputs": [
    {
     "name": "stdout",
     "output_type": "stream",
     "text": [
      "风速为：2,半径为：5,颜色为：blue 关闭状态\n"
     ]
    }
   ],
   "source": [
    "f.fan1(2)"
   ]
  },
  {
   "cell_type": "markdown",
   "metadata": {},
   "source": [
    "- 4\n",
    "![](../Photo/94.png)\n",
    "![](../Photo/95.png)"
   ]
  },
  {
   "cell_type": "code",
   "execution_count": 151,
   "metadata": {},
   "outputs": [],
   "source": [
    "import math"
   ]
  },
  {
   "cell_type": "code",
   "execution_count": 155,
   "metadata": {},
   "outputs": [],
   "source": [
    "#正n边形\n",
    "class nbian:\n",
    "    def __init__(self):\n",
    "        pass\n",
    "    def n_bian(self,n=3,side=1,x=0,y=0):\n",
    "        self.__n=n\n",
    "        self.__side=side\n",
    "        self.__x=x\n",
    "        self.__y=y\n",
    "    def zhouchang(self):\n",
    "        zc=self.__n*self.__side\n",
    "        print('周长为：',zc)\n",
    "    def  area(self):\n",
    "        num=math.tan(math.pi/self.__n)\n",
    "        mj=(self.__n*self.__side**2)/4*num\n",
    "        print('面积为：',mj)\n",
    "        "
   ]
  },
  {
   "cell_type": "code",
   "execution_count": 156,
   "metadata": {},
   "outputs": [],
   "source": [
    "nn=nbian()"
   ]
  },
  {
   "cell_type": "code",
   "execution_count": 157,
   "metadata": {},
   "outputs": [
    {
     "name": "stdout",
     "output_type": "stream",
     "text": [
      "周长为： 24\n",
      "面积为： 13.856406460551018\n"
     ]
    }
   ],
   "source": [
    "nn.n_bian(6,4)\n",
    "nn.zhouchang()\n",
    "nn.area()"
   ]
  },
  {
   "cell_type": "code",
   "execution_count": 158,
   "metadata": {},
   "outputs": [
    {
     "name": "stdout",
     "output_type": "stream",
     "text": [
      "周长为： 40\n",
      "面积为： 12.996787849316252\n"
     ]
    }
   ],
   "source": [
    "nn.n_bian(10,4,5.6,7.8)\n",
    "nn.zhouchang()\n",
    "nn.area()"
   ]
  },
  {
   "cell_type": "markdown",
   "metadata": {},
   "source": [
    "- 5\n",
    "![](../Photo/96.png)"
   ]
  },
  {
   "cell_type": "code",
   "execution_count": 167,
   "metadata": {},
   "outputs": [],
   "source": [
    "#2*2的线性方程\n",
    "class fangcheng:\n",
    "    def __init__(self):\n",
    "        pass\n",
    "    def get(self):\n",
    "        self.a=eval(input('请输入a值：'))\n",
    "        self.b=eval(input('请输入b值：'))\n",
    "        self.c=eval(input('请输入c值：'))\n",
    "        self.d=eval(input('请输入d值：'))\n",
    "        self.e=eval(input('请输入e值：'))\n",
    "        self.f=eval(input('请输入f值：'))\n",
    "    def issolvable(self):\n",
    "        if self.a*self.d!=self.b*self.c:\n",
    "            x=(self.e*self.d-self.b*self.f)/(self.a*self.d-self.b*self.c)\n",
    "            y=(self.a*self.f-self.e*self.c)/(self.a*self.d-self.b*self.c)\n",
    "            print('x=%d,y=%d'%(x,y))\n",
    "        else:\n",
    "            print('此方程无解')"
   ]
  },
  {
   "cell_type": "code",
   "execution_count": 168,
   "metadata": {},
   "outputs": [],
   "source": [
    "fc=fangcheng()"
   ]
  },
  {
   "cell_type": "code",
   "execution_count": 170,
   "metadata": {},
   "outputs": [
    {
     "name": "stdout",
     "output_type": "stream",
     "text": [
      "请输入a值：1\n",
      "请输入b值：2\n",
      "请输入c值：1\n",
      "请输入d值：1\n",
      "请输入e值：2\n",
      "请输入f值：1\n",
      "x=0,y=1\n"
     ]
    }
   ],
   "source": [
    "fc.get()\n",
    "fc.issolvable()"
   ]
  },
  {
   "cell_type": "code",
   "execution_count": 166,
   "metadata": {},
   "outputs": [],
   "source": []
  },
  {
   "cell_type": "markdown",
   "metadata": {},
   "source": [
    "- 6\n",
    "![](../Photo/97.png)"
   ]
  },
  {
   "cell_type": "code",
   "execution_count": null,
   "metadata": {},
   "outputs": [],
   "source": [
    "#交叉线\n",
    "class jiaochaxian:\n",
    "    def __init__(self):\n",
    "        pass\n",
    "    def get_():\n",
    "        self.x1,self.y1,self.x2,self.y2=eval(input('请输入端点：'))\n",
    "        self.x3,self.y3,self.x4,self.y4=eval(input('请输入端点：'))\n",
    "        if (y1-y2)/(x1-x2)!=(y3-y4)/(x3-x4):\n",
    "            pass\n",
    "        else:\n",
    "            print('两条线段不想交')"
   ]
  },
  {
   "cell_type": "markdown",
   "metadata": {},
   "source": [
    "- 7\n",
    "![](../Photo/98.png)"
   ]
  },
  {
   "cell_type": "code",
   "execution_count": null,
   "metadata": {},
   "outputs": [],
   "source": []
  },
  {
   "cell_type": "code",
   "execution_count": null,
   "metadata": {},
   "outputs": [],
   "source": []
  },
  {
   "cell_type": "code",
   "execution_count": null,
   "metadata": {},
   "outputs": [],
   "source": []
  },
  {
   "cell_type": "code",
   "execution_count": null,
   "metadata": {},
   "outputs": [],
   "source": []
  },
  {
   "cell_type": "code",
   "execution_count": null,
   "metadata": {},
   "outputs": [],
   "source": []
  },
  {
   "cell_type": "code",
   "execution_count": null,
   "metadata": {},
   "outputs": [],
   "source": []
  },
  {
   "cell_type": "code",
   "execution_count": null,
   "metadata": {},
   "outputs": [],
   "source": []
  },
  {
   "cell_type": "code",
   "execution_count": null,
   "metadata": {},
   "outputs": [],
   "source": []
  },
  {
   "cell_type": "code",
   "execution_count": null,
   "metadata": {},
   "outputs": [],
   "source": []
  }
 ],
 "metadata": {
  "kernelspec": {
   "display_name": "Python 3",
   "language": "python",
   "name": "python3"
  },
  "language_info": {
   "codemirror_mode": {
    "name": "ipython",
    "version": 3
   },
   "file_extension": ".py",
   "mimetype": "text/x-python",
   "name": "python",
   "nbconvert_exporter": "python",
   "pygments_lexer": "ipython3",
   "version": "3.6.4"
  }
 },
 "nbformat": 4,
 "nbformat_minor": 2
}
