{
 "cells": [
  {
   "cell_type": "markdown",
   "metadata": {},
   "source": [
    "# 数学函数、字符串和对象\n",
    "## 本章介绍Python函数来执行常见的数学运算\n",
    "- 函数是完成一个特殊任务的一组语句，可以理解为一个函数相当于一个小功能，但是在开发中，需要注意一个函数的长度最好不要超过一屏\n",
    "- Python中的内置函数是不需要Import导入的\n",
    "<img src=\"../Photo/15.png\"></img>"
   ]
  },
  {
   "cell_type": "code",
   "execution_count": null,
   "metadata": {},
   "outputs": [],
   "source": [
    "a.__iter__#看a是否有可迭代属性"
   ]
  },
  {
   "cell_type": "markdown",
   "metadata": {},
   "source": [
    "## 尝试练习Python内置函数"
   ]
  },
  {
   "cell_type": "markdown",
   "metadata": {},
   "source": [
    "## Python中的math模块提供了许多数学函数\n",
    "<img src=\"../Photo/16.png\"></img>\n",
    "<img src=\"../Photo/17.png\"></img>\n"
   ]
  },
  {
   "cell_type": "markdown",
   "metadata": {},
   "source": [
    "## 两个数学常量PI和e，可以通过使用math.pi 和math.e调用"
   ]
  },
  {
   "cell_type": "markdown",
   "metadata": {},
   "source": [
    "## EP:\n",
    "- 通过math库，写一个程序，使得用户输入三个顶点(x,y)返回三个角度\n",
    "- 注意：Python计算角度为弧度制，需要将其转换为角度\n",
    "<img src=\"../Photo/18.png\">"
   ]
  },
  {
   "cell_type": "code",
   "execution_count": 5,
   "metadata": {},
   "outputs": [
    {
     "name": "stdout",
     "output_type": "stream",
     "text": [
      "请输入顶点0\n",
      "请输入顶点0\n",
      "请输入顶点0\n",
      "请输入顶点1\n",
      "请输入顶点1\n",
      "请输入顶点0\n",
      "44.999999999999986 1.5707963267948968 0.7853981633974481\n"
     ]
    }
   ],
   "source": [
    "import math\n",
    "x1=eval(input(\"请输入顶点\"))\n",
    "y1=eval(input(\"请输入顶点\"))\n",
    "x2=eval(input(\"请输入顶点\"))\n",
    "y2=eval(input(\"请输入顶点\"))\n",
    "x3=eval(input(\"请输入顶点\"))\n",
    "y3=eval(input(\"请输入顶点\"))\n",
    "a=math.sqrt(pow(x1-x2,2)+pow(y1-y2,2))\n",
    "b=math.sqrt(pow(x2-x3,2)+pow(y2-y3,2))\n",
    "c=math.sqrt(pow(x1-x3,2)+pow(y1-y3,2))\n",
    "A=math.degrees(math.acos((a*a-b*b-c*c)/(-2*b*c)))\n",
    "B=math.acos((b*b-a*a-c*c)/(-2*a*c))\n",
    "C=math.acos((c*c-a*a-b*b)/(-2*a*b))\n",
    "print(A,B,C)"
   ]
  },
  {
   "cell_type": "code",
   "execution_count": 8,
   "metadata": {},
   "outputs": [
    {
     "name": "stdout",
     "output_type": "stream",
     "text": [
      "请输入三个数值1 2 3\n",
      "1 2 3\n",
      "<class 'str'>\n"
     ]
    }
   ],
   "source": [
    "a,b,c=input(\"请输入三个数值\").split()#split()用来分割的，括号里是分隔符\n",
    "print(a,b,c)\n",
    "print(type(a))"
   ]
  },
  {
   "cell_type": "code",
   "execution_count": 7,
   "metadata": {},
   "outputs": [
    {
     "name": "stdout",
     "output_type": "stream",
     "text": [
      "a,b1,2\n",
      "1 2\n"
     ]
    }
   ],
   "source": [
    "a,b=eval(input('a,b'))#没有eval不可以\n",
    "print(a,b)"
   ]
  },
  {
   "cell_type": "code",
   "execution_count": 15,
   "metadata": {},
   "outputs": [
    {
     "name": "stdout",
     "output_type": "stream",
     "text": [
      "谢谢惠顾\n"
     ]
    }
   ],
   "source": [
    "import random\n",
    "numder1=random.random()\n",
    "numder2=random.random()\n",
    "numder3=random.random()\n",
    "if numder1<(numder2+numder3)and numder2<(numder1+numder3) and numder3<(numder2+numder1):\n",
    "    print(\"恭喜你中奖了\")\n",
    "else:\n",
    "    print(\"谢谢惠顾\")\n",
    "        \n",
    "              "
   ]
  },
  {
   "cell_type": "code",
   "execution_count": 21,
   "metadata": {},
   "outputs": [
    {
     "name": "stdout",
     "output_type": "stream",
     "text": [
      "请输入账号122\n",
      "0.8114751683407405 0.9990835313896197 0.7133756938975987\n",
      "很遗憾\n"
     ]
    }
   ],
   "source": [
    "name=eval(input(\"请输入账号\"))\n",
    "import random\n",
    "numder1=random.random()\n",
    "numder2=random.random()\n",
    "numder3=random.random()\n",
    "print(numder1,numder2,numder3)\n",
    "if name==123:\n",
    "    if numder2<(numder1+numder3) and numder3<(numder2+numder1):\n",
    "         print(\"恭喜你中奖了\")\n",
    "    else:\n",
    "         print(\"谢谢惠顾\")\n",
    "elif numder1<(numder2+numder3)and numder2<(numder1+numder3) and numder3<(numder2+numder1):\n",
    "    if name!=123:\n",
    "        print(\"很遗憾\") \n",
    "else:\n",
    "    print(\"谢谢惠顾\")\n",
    "    "
   ]
  },
  {
   "cell_type": "markdown",
   "metadata": {},
   "source": [
    "字符串和字符\n",
    "- 在Python中，字符串必须是在单引号或者双引号内，在多段换行的字符串中可以使用“”“\n",
    "- 在使用”“”时，给予其变量则变为字符串，否则当多行注释使用"
   ]
  },
  {
   "cell_type": "markdown",
   "metadata": {},
   "source": [
    "## ASCII码与Unicode码\n",
    "- <img src=\"../Photo/19.png\"></img>\n",
    "- <img src=\"../Photo/20.png\"></img>\n",
    "- <img src=\"../Photo/21.png\"></img>"
   ]
  },
  {
   "cell_type": "markdown",
   "metadata": {},
   "source": [
    "## 函数ord、chr\n",
    "- ord 返回ASCII码值\n",
    "- chr 返回字符"
   ]
  },
  {
   "cell_type": "code",
   "execution_count": 23,
   "metadata": {},
   "outputs": [
    {
     "data": {
      "text/plain": [
       "97"
      ]
     },
     "execution_count": 23,
     "metadata": {},
     "output_type": "execute_result"
    }
   ],
   "source": [
    "ord(\"a\")"
   ]
  },
  {
   "cell_type": "code",
   "execution_count": 24,
   "metadata": {},
   "outputs": [
    {
     "data": {
      "text/plain": [
       "'a'"
      ]
     },
     "execution_count": 24,
     "metadata": {},
     "output_type": "execute_result"
    }
   ],
   "source": [
    "chr(97)"
   ]
  },
  {
   "cell_type": "code",
   "execution_count": 44,
   "metadata": {},
   "outputs": [
    {
     "name": "stdout",
     "output_type": "stream",
     "text": [
      "请输入账号wjj\n",
      "//////////m``'+/m``'+/uhh/37353ree\n"
     ]
    }
   ],
   "source": [
    "#加密\n",
    "youxiang=input(\"请输入账号\")\n",
    "d=random.randint(0,10)\n",
    "for letter in youxiang:\n",
    "    b=chr(ord(letter)-d)\n",
    "    c+=b\n",
    "print(c)"
   ]
  },
  {
   "cell_type": "markdown",
   "metadata": {},
   "source": [
    "## EP:\n",
    "- 利用ord与chr进行简单邮箱加密"
   ]
  },
  {
   "cell_type": "markdown",
   "metadata": {},
   "source": [
    "## 转义序列 \\\n",
    "- a = \"He said,\"Johon's program is easy to read\"\n",
    "- 转掉它原来的意思\n",
    "- 一般情况下只有当语句与默认方法相撞的时候，就需要转义"
   ]
  },
  {
   "cell_type": "markdown",
   "metadata": {},
   "source": [
    "1.三引号和单/双引号的区别是:\n",
    "- 三引号内可以使用换行,单/双引号\n",
    "- 三引号如果不加变量的话,代表是注释(可以换行注释)\n",
    "\n",
    "2.单/双引号内是不是可以加入单/双引号的,但是可以加入双/单.\n",
    "\n",
    "3.如果非要头铁,可以使用\"\\\\\"(转义字符),表示转掉它原来的意思."
   ]
  },
  {
   "cell_type": "markdown",
   "metadata": {},
   "source": [
    "## 高级print\n",
    "- 参数 end： 以什么方式结束打印\n",
    "- 默认换行打印"
   ]
  },
  {
   "cell_type": "code",
   "execution_count": 1,
   "metadata": {},
   "outputs": [
    {
     "name": "stdout",
     "output_type": "stream",
     "text": [
      "wjj meili\n"
     ]
    }
   ],
   "source": [
    "print(\"wjj\",end=\" \")\n",
    "print(\"meili\")"
   ]
  },
  {
   "cell_type": "code",
   "execution_count": 46,
   "metadata": {},
   "outputs": [
    {
     "name": "stdout",
     "output_type": "stream",
     "text": [
      "wssj\n"
     ]
    }
   ],
   "source": [
    "print(\"w\",\"j\",sep=\"ss\")#print=sys.stdout.write()"
   ]
  },
  {
   "cell_type": "code",
   "execution_count": 18,
   "metadata": {},
   "outputs": [
    {
     "name": "stdout",
     "output_type": "stream",
     "text": [
      "100/100####################\r"
     ]
    }
   ],
   "source": [
    "import time\n",
    "for i in range(100):\n",
    "    print(\"%s/%s%s\\r\"%(i+1,100,\"#\"*((i+1)//5)),flush=True,end=\"\")\n",
    "    time.sleep(1)\n"
   ]
  },
  {
   "cell_type": "code",
   "execution_count": 17,
   "metadata": {},
   "outputs": [
    {
     "name": "stdout",
     "output_type": "stream",
     "text": [
      "####################100%\r"
     ]
    }
   ],
   "source": [
    "import time\n",
    "for i in range(100):\n",
    "    print(\"%s%s%s\\r\"%(\"#\"*((i+1)//5),i+1,\"%\"),flush=True,end=\"\")\n",
    "    time.sleep(1)"
   ]
  },
  {
   "cell_type": "code",
   "execution_count": null,
   "metadata": {},
   "outputs": [],
   "source": [
    "import time\n",
    "a=0\n",
    "for i in range(100):\n",
    "    if (i+1)%5==0:\n",
    "        a+=1\n",
    "    print(\"%s%s%s\\r\"%(\"#\"*a,i+1,\"%\"),flush=True,end=\"\")\n",
    "    time.sleep(1)"
   ]
  },
  {
   "cell_type": "code",
   "execution_count": 23,
   "metadata": {},
   "outputs": [
    {
     "name": "stdout",
     "output_type": "stream",
     "text": [
      "88/100#######################################################################################\r"
     ]
    },
    {
     "ename": "KeyboardInterrupt",
     "evalue": "",
     "output_type": "error",
     "traceback": [
      "\u001b[1;31m---------------------------------------------------------------------------\u001b[0m",
      "\u001b[1;31mKeyboardInterrupt\u001b[0m                         Traceback (most recent call last)",
      "\u001b[1;32m<ipython-input-23-903881f40485>\u001b[0m in \u001b[0;36m<module>\u001b[1;34m()\u001b[0m\n\u001b[0;32m      2\u001b[0m \u001b[1;32mfor\u001b[0m \u001b[0mi\u001b[0m \u001b[1;32min\u001b[0m \u001b[0mrange\u001b[0m\u001b[1;33m(\u001b[0m\u001b[1;36m100\u001b[0m\u001b[1;33m)\u001b[0m\u001b[1;33m:\u001b[0m\u001b[1;33m\u001b[0m\u001b[0m\n\u001b[0;32m      3\u001b[0m     \u001b[0mprint\u001b[0m\u001b[1;33m(\u001b[0m\u001b[1;34m\"%s/%s%s\\r\"\u001b[0m\u001b[1;33m%\u001b[0m\u001b[1;33m(\u001b[0m\u001b[0mi\u001b[0m\u001b[1;33m+\u001b[0m\u001b[1;36m1\u001b[0m\u001b[1;33m,\u001b[0m\u001b[1;36m100\u001b[0m\u001b[1;33m,\u001b[0m\u001b[1;34m\"#\"\u001b[0m\u001b[1;33m*\u001b[0m\u001b[0mi\u001b[0m\u001b[1;33m)\u001b[0m\u001b[1;33m,\u001b[0m\u001b[0mflush\u001b[0m\u001b[1;33m=\u001b[0m\u001b[1;32mTrue\u001b[0m\u001b[1;33m,\u001b[0m\u001b[0mend\u001b[0m\u001b[1;33m=\u001b[0m\u001b[1;34m\"\"\u001b[0m\u001b[1;33m)\u001b[0m\u001b[1;33m\u001b[0m\u001b[0m\n\u001b[1;32m----> 4\u001b[1;33m     \u001b[0mtime\u001b[0m\u001b[1;33m.\u001b[0m\u001b[0msleep\u001b[0m\u001b[1;33m(\u001b[0m\u001b[1;36m1\u001b[0m\u001b[1;33m)\u001b[0m\u001b[1;33m\u001b[0m\u001b[0m\n\u001b[0m",
      "\u001b[1;31mKeyboardInterrupt\u001b[0m: "
     ]
    }
   ],
   "source": [
    "import time\n",
    "for i in range(100):\n",
    "    print(\"%s/%s%s\\r\"%(i+1,100,\"#\"*i),flush=True,end=\"\")\n",
    "    time.sleep(1)"
   ]
  },
  {
   "cell_type": "markdown",
   "metadata": {},
   "source": [
    "## 函数str\n",
    "- 将类型强制转换成字符串类型\n",
    "- 其他一些以后会学到(list,set,tuple...)"
   ]
  },
  {
   "cell_type": "markdown",
   "metadata": {},
   "source": [
    "## 字符串连接操作\n",
    "- 直接使用 “+” \n",
    "- join() 函数 "
   ]
  },
  {
   "cell_type": "code",
   "execution_count": 26,
   "metadata": {},
   "outputs": [
    {
     "data": {
      "text/plain": [
       "'b-c'"
      ]
     },
     "execution_count": 26,
     "metadata": {},
     "output_type": "execute_result"
    }
   ],
   "source": [
    "'-'.join(('b','c'))"
   ]
  },
  {
   "cell_type": "code",
   "execution_count": 41,
   "metadata": {},
   "outputs": [
    {
     "name": "stdout",
     "output_type": "stream",
     "text": [
      "**********_1.###\n",
      "**********_2.###\n",
      "**********_3.###\n",
      "**********_4.###\n",
      "**********_5.###\n",
      "**********_6.###\n",
      "**********_7.###\n",
      "**********_8.###\n",
      "**********_9.###\n",
      "**********_10.###\n",
      "**********_11.###\n",
      "**********_12.###\n",
      "**********_13.###\n",
      "**********_14.###\n",
      "**********_15.###\n",
      "**********_16.###\n",
      "**********_17.###\n",
      "**********_18.###\n",
      "**********_19.###\n",
      "**********_20.###\n",
      "**********_21.###\n",
      "**********_22.###\n",
      "**********_23.###\n",
      "**********_24.###\n",
      "**********_25.###\n",
      "**********_26.###\n",
      "**********_27.###\n"
     ]
    }
   ],
   "source": [
    "for i in range(1,28):\n",
    "    str1=str(i)\n",
    "    b='_'.join(('**********',str1))\n",
    "    print('.'.join((b,'###')))"
   ]
  },
  {
   "cell_type": "markdown",
   "metadata": {},
   "source": [
    "## EP：\n",
    "- 将 “Welcome” “to” \"Python\" 拼接\n",
    "- 将int型 100 与 “joker is a bad man” 拼接\n",
    "- 从控制台读取字符串\n",
    "> 输入一个名字返回夸奖此人"
   ]
  },
  {
   "cell_type": "code",
   "execution_count": 24,
   "metadata": {},
   "outputs": [
    {
     "name": "stdout",
     "output_type": "stream",
     "text": [
      "请输入姓名王晶晶\n",
      "王晶晶 good\n"
     ]
    }
   ],
   "source": [
    "name=input(\"请输入姓名\")\n",
    "print(name,\"good\")"
   ]
  },
  {
   "cell_type": "markdown",
   "metadata": {},
   "source": [
    "## 实例研究：最小数量硬币\n",
    "- 开发一个程序，让用户输入总金额，这是一个用美元和美分表示的浮点值，返回一个由美元、两角五分的硬币、一角的硬币、五分硬币、以及美分个数\n",
    "<img src=\"../Photo/22.png\"></img>"
   ]
  },
  {
   "cell_type": "markdown",
   "metadata": {},
   "source": [
    "- Python弱项，对于浮点型的处理并不是很好，但是处理数据的时候使用的是Numpy类型\n",
    "<img src=\"../Photo/23.png\"></img>"
   ]
  },
  {
   "cell_type": "code",
   "execution_count": null,
   "metadata": {},
   "outputs": [],
   "source": [
    "#numpy库用c语言执行\n",
    "#scipy库\n",
    "#\n",
    "#matplotlib库"
   ]
  },
  {
   "cell_type": "markdown",
   "metadata": {},
   "source": [
    "## id与type\n",
    "- id 查看内存地址，在判断语句中将会使用\n",
    "- type 查看元素类型"
   ]
  },
  {
   "cell_type": "code",
   "execution_count": 43,
   "metadata": {},
   "outputs": [
    {
     "data": {
      "text/plain": [
       "int"
      ]
     },
     "execution_count": 43,
     "metadata": {},
     "output_type": "execute_result"
    }
   ],
   "source": [
    "a=10\n",
    "id(a)\n",
    "type(a)"
   ]
  },
  {
   "cell_type": "markdown",
   "metadata": {},
   "source": [
    "## 其他格式化语句见书"
   ]
  },
  {
   "cell_type": "markdown",
   "metadata": {},
   "source": [
    "# Homework\n",
    "- 1\n",
    "<img src=\"../Photo/24.png\"><img>\n",
    "<img src=\"../Photo/25.png\"><img>"
   ]
  },
  {
   "cell_type": "code",
   "execution_count": 2,
   "metadata": {},
   "outputs": [
    {
     "name": "stdout",
     "output_type": "stream",
     "text": [
      "请输入距离r5.5\n",
      "71.923649044821\n"
     ]
    }
   ],
   "source": [
    "import math\n",
    "r=eval(input('请输入距离r'))\n",
    "s=2*r*math.sin(math.pi/5)\n",
    "area=5*s*s/(4*math.tan(math.pi/5))\n",
    "print(area)"
   ]
  },
  {
   "cell_type": "markdown",
   "metadata": {},
   "source": [
    "- 2\n",
    "<img src=\"../Photo/26.png\"><img>"
   ]
  },
  {
   "cell_type": "code",
   "execution_count": 5,
   "metadata": {},
   "outputs": [
    {
     "name": "stdout",
     "output_type": "stream",
     "text": [
      "请输入经纬度39.55,-116.25\n",
      "请输入经纬度41.5,87.37\n",
      "10019.478282773487 km\n"
     ]
    }
   ],
   "source": [
    "import math\n",
    "x1,y1=eval(input('请输入经纬度'))\n",
    "x2,y2=eval(input('请输入经纬度'))\n",
    "radius=6371.01\n",
    "a=math.sin(math.radians(x1))*math.sin(math.radians(x2))\n",
    "b=math.cos(math.radians(x1))*math.cos(math.radians(x2))*math.cos(math.radians(y1-y2))\n",
    "d=radius*math.acos(math.radians(a+b))\n",
    "print(d,'km')"
   ]
  },
  {
   "cell_type": "markdown",
   "metadata": {},
   "source": [
    "- 3\n",
    "<img src=\"../Photo/27.png\"><img>"
   ]
  },
  {
   "cell_type": "code",
   "execution_count": 7,
   "metadata": {},
   "outputs": [
    {
     "name": "stdout",
     "output_type": "stream",
     "text": [
      "请输入五角星边长：5.5\n",
      "52.044441367816255\n"
     ]
    }
   ],
   "source": [
    "import math\n",
    "s=eval(input('请输入五角星边长：'))\n",
    "a=4*math.tan(math.pi/5)\n",
    "area=5*s*s/a\n",
    "print(area)"
   ]
  },
  {
   "cell_type": "markdown",
   "metadata": {},
   "source": [
    "- 4\n",
    "<img src=\"../Photo/28.png\"><img>"
   ]
  },
  {
   "cell_type": "code",
   "execution_count": 8,
   "metadata": {},
   "outputs": [
    {
     "name": "stdout",
     "output_type": "stream",
     "text": [
      "请输入正多边形边长和边数：6.5,5\n",
      "72.69017017488386\n"
     ]
    }
   ],
   "source": [
    "import math\n",
    "s,n=eval(input('请输入正多边形边长和边数：'))\n",
    "a=4*math.tan(math.pi/5)\n",
    "area=n*s*s/a\n",
    "print(area)"
   ]
  },
  {
   "cell_type": "markdown",
   "metadata": {},
   "source": [
    "- 5\n",
    "<img src=\"../Photo/29.png\"><img>\n",
    "<img src=\"../Photo/30.png\"><img>"
   ]
  },
  {
   "cell_type": "code",
   "execution_count": 11,
   "metadata": {},
   "outputs": [
    {
     "name": "stdout",
     "output_type": "stream",
     "text": [
      "请输入一个整数69\n",
      "E\n"
     ]
    }
   ],
   "source": [
    "a=eval(input('请输入一个整数'))\n",
    "b=chr(a)\n",
    "print(b)"
   ]
  },
  {
   "cell_type": "markdown",
   "metadata": {},
   "source": [
    "- 6\n",
    "<img src=\"../Photo/31.png\"><img>"
   ]
  },
  {
   "cell_type": "code",
   "execution_count": 14,
   "metadata": {},
   "outputs": [
    {
     "name": "stdout",
     "output_type": "stream",
     "text": [
      "请输入姓名Smith\n",
      "请输入一周工作时间10\n",
      "请输入每小时报酬9.75\n",
      "请收入联邦预扣税率0.2\n",
      "请输入州预扣税率0.09\n",
      "Employee Name: Smith\n",
      "Hours Worked: 10\n",
      "Pay Rate: $9.75\n",
      "Gross Pay: $97.5\n",
      "Deductionsz;\n",
      "  Fedral Withholding(0.2): $19.5\n",
      "  State Withholding(0.09): $8.775\n",
      "  Total Deduction: $28.275\n",
      "Net Pay: $69.225\n"
     ]
    }
   ],
   "source": [
    "name=input('请输入姓名')\n",
    "time=eval(input('请输入一周工作时间'))\n",
    "reward=eval(input('请输入每小时报酬'))\n",
    "g_pay=time*reward\n",
    "l_rate=eval(input('请收入联邦预扣税率'))\n",
    "z_rate=eval(input('请输入州预扣税率'))\n",
    "l_w=g_pay*l_rate\n",
    "s_w=g_pay*z_rate\n",
    "t_d=l_w+s_w\n",
    "n_p=g_pay-t_d\n",
    "print('Employee Name:',name)\n",
    "print('Hours Worked:',time)\n",
    "print('Pay Rate: $',reward,sep='')\n",
    "print('Gross Pay: $',g_pay,sep='')\n",
    "print('Deductionsz;')\n",
    "print('  ''Fedral Withholding(%s): $'%l_rate,l_w,sep='')\n",
    "print('  ''State Withholding(%s): $'%z_rate,s_w,sep='')\n",
    "print('  ''Total Deduction: $',t_d,sep='')\n",
    "print('Net Pay: $',n_p,sep='')"
   ]
  },
  {
   "cell_type": "markdown",
   "metadata": {},
   "source": [
    "- 7\n",
    "<img src=\"../Photo/32.png\"><img>"
   ]
  },
  {
   "cell_type": "code",
   "execution_count": 19,
   "metadata": {},
   "outputs": [
    {
     "name": "stdout",
     "output_type": "stream",
     "text": [
      "请输入一个整数3125\n",
      "5213\n"
     ]
    }
   ],
   "source": [
    "a=input('请输入一个整数')\n",
    "b=list(a)\n",
    "c=b[::-1]\n",
    "print(''.join(c))"
   ]
  },
  {
   "cell_type": "markdown",
   "metadata": {},
   "source": [
    "- 8 进阶：\n",
    "> 加密一串文本，并将解密后的文件写入本地保存"
   ]
  },
  {
   "cell_type": "code",
   "execution_count": 12,
   "metadata": {},
   "outputs": [
    {
     "name": "stdout",
     "output_type": "stream",
     "text": [
      "请输入文本王晶晶真美丽\n",
      " \u0002\t\u0005\u0007\t \u0002\t\u0005\u0007\t\u0002\u0006\u0002\u0003\u0000 \u0002\t\u0005\u0007\t \u0002\t\u0005\u0007\t\u0002\u0006\u0002\u0003\u0000\u0002\u0006\u0002\u0003\u0000 \u0002\t\u0005\u0007\t \u0002\t\u0005\u0007\t\u0002\u0006\u0002\u0003\u0000 \u0002\t\u0005\u0007\t \u0002\t\u0005\u0007\t\u0002\u0006\u0002\u0003\u0000\u0002\u0006\u0002\u0003\u0000\u0003\u0000\u0004\t\u0005 \u0002\t\u0005\u0007\t \u0002\t\u0005\u0007\t\u0002\u0006\u0002\u0003\u0000 \u0002\t\u0005\u0007\t \u0002\t\u0005\u0007\t\u0002\u0006\u0002\u0003\u0000\u0002\u0006\u0002\u0003\u0000 \u0002\t\u0005\u0007\t \u0002\t\u0005\u0007\t\u0002\u0006\u0002\u0003\u0000 \u0002\t\u0005\u0007\t \u0002\t\u0005\u0007\t\u0002\u0006\u0002\u0003\u0000\u0002\u0006\u0002\u0003\u0000\u0003\u0000\u0004\t\u0005\u0003\u0002\u0006\u0005\u0004 \u0002\t\u0005\u0007\t \u0002\t\u0005\u0007\t\u0002\u0006\u0002\u0003\u0000 \u0002\t\u0005\u0007\t \u0002\t\u0005\u0007\t\u0002\u0006\u0002\u0003\u0000\u0002\u0006\u0002\u0003\u0000 \u0002\t\u0005\u0007\t \u0002\t\u0005\u0007\t\u0002\u0006\u0002\u0003\u0000 \u0002\t\u0005\u0007\t \u0002\t\u0005\u0007\t\u0002\u0006\u0002\u0003\u0000\u0002\u0006\u0002\u0003\u0000\u0003\u0000\u0004\t\u0005 \u0002\t\u0005\u0007\t \u0002\t\u0005\u0007\t\u0002\u0006\u0002\u0003\u0000 \u0002\t\u0005\u0007\t \u0002\t\u0005\u0007\t\u0002\u0006\u0002\u0003\u0000\u0002\u0006\u0002\u0003\u0000 \u0002\t\u0005\u0007\t \u0002\t\u0005\u0007\t\u0002\u0006\u0002\u0003\u0000 \u0002\t\u0005\u0007\t \u0002\t\u0005\u0007\t\u0002\u0006\u0002\u0003\u0000\u0002\u0006\u0002\u0003\u0000\u0003\u0000\u0004\t\u0005\u0003\u0002\u0006\u0005\u0004\u0002\u0000\u0000\u0002\t \u0002\t\u0005\u0007\t \u0002\t\u0005\u0007\t\u0002\u0006\u0002\u0003\u0000 \u0002\t\u0005\u0007\t \u0002\t\u0005\u0007\t\u0002\u0006\u0002\u0003\u0000\u0002\u0006\u0002\u0003\u0000 \u0002\t\u0005\u0007\t \u0002\t\u0005\u0007\t\u0002\u0006\u0002\u0003\u0000 \u0002\t\u0005\u0007\t \u0002\t\u0005\u0007\t\u0002\u0006\u0002\u0003\u0000\u0002\u0006\u0002\u0003\u0000\u0003\u0000\u0004\t\u0005 \u0002\t\u0005\u0007\t \u0002\t\u0005\u0007\t\u0002\u0006\u0002\u0003\u0000 \u0002\t\u0005\u0007\t \u0002\t\u0005\u0007\t\u0002\u0006\u0002\u0003\u0000\u0002\u0006\u0002\u0003\u0000 \u0002\t\u0005\u0007\t \u0002\t\u0005\u0007\t\u0002\u0006\u0002\u0003\u0000 \u0002\t\u0005\u0007\t \u0002\t\u0005\u0007\t\u0002\u0006\u0002\u0003\u0000\u0002\u0006\u0002\u0003\u0000\u0003\u0000\u0004\t\u0005\u0003\u0002\u0006\u0005\u0004 \u0002\t\u0005\u0007\t \u0002\t\u0005\u0007\t\u0002\u0006\u0002\u0003\u0000 \u0002\t\u0005\u0007\t \u0002\t\u0005\u0007\t\u0002\u0006\u0002\u0003\u0000\u0002\u0006\u0002\u0003\u0000 \u0002\t\u0005\u0007\t \u0002\t\u0005\u0007\t\u0002\u0006\u0002\u0003\u0000 \u0002\t\u0005\u0007\t \u0002\t\u0005\u0007\t\u0002\u0006\u0002\u0003\u0000\u0002\u0006\u0002\u0003\u0000\u0003\u0000\u0004\t\u0005 \u0002\t\u0005\u0007\t \u0002\t\u0005\u0007\t\u0002\u0006\u0002\u0003\u0000 \u0002\t\u0005\u0007\t \u0002\t\u0005\u0007\t\u0002\u0006\u0002\u0003\u0000\u0002\u0006\u0002\u0003\u0000 \u0002\t\u0005\u0007\t \u0002\t\u0005\u0007\t\u0002\u0006\u0002\u0003\u0000 \u0002\t\u0005\u0007\t \u0002\t\u0005\u0007\t\u0002\u0006\u0002\u0003\u0000\u0002\u0006\u0002\u0003\u0000\u0003\u0000\u0004\t\u0005\u0003\u0002\u0006\u0005\u0004\u0002\u0000\u0000\u0002\t\n"
     ]
    }
   ],
   "source": [
    "word=input(\"请输入文本\")\n",
    "d=' '\n",
    "for letter in word:\n",
    "    b=ord(letter)\n",
    "    b=str (b)\n",
    "    for i in b:\n",
    "        i=int(i)\n",
    "        c=chr(i)\n",
    "        d+=c\n",
    "    d+=d\n",
    "print(d)"
   ]
  },
  {
   "cell_type": "code",
   "execution_count": 16,
   "metadata": {},
   "outputs": [
    {
     "name": "stdout",
     "output_type": "stream",
     "text": [
      "请输入文本王晶晶\n",
      "%E7%8E%8B%E6%99%B6%E6%99%B6\n",
      "王晶晶\n"
     ]
    }
   ],
   "source": [
    "#url编码\n",
    "from urllib.parse import quote,unquote\n",
    "word=input(\"请输入文本\")\n",
    "a=quote(word)\n",
    "print(a)\n",
    "#解密\n",
    "print(unquote(a))"
   ]
  },
  {
   "cell_type": "code",
   "execution_count": 17,
   "metadata": {},
   "outputs": [
    {
     "name": "stdout",
     "output_type": "stream",
     "text": [
      "请输入文本王晶晶\n",
      "[29579, 26230, 26230]\n",
      "王晶晶\n"
     ]
    }
   ],
   "source": [
    "#字符串转换ascii\n",
    "word=input(\"请输入文本\")\n",
    "a=list(map(ord,word))\n",
    "#map（）通过函数f(x)依次作用在list的每一个元素上\n",
    "#map(f(x),itera)第一个参数为某个函数，第二个参数为可迭代对象\n",
    "print(a)\n",
    "#解密\n",
    "print(''.join(map(chr,a)))"
   ]
  },
  {
   "cell_type": "code",
   "execution_count": null,
   "metadata": {},
   "outputs": [],
   "source": []
  }
 ],
 "metadata": {
  "kernelspec": {
   "display_name": "Python 3",
   "language": "python",
   "name": "python3"
  },
  "language_info": {
   "codemirror_mode": {
    "name": "ipython",
    "version": 3
   },
   "file_extension": ".py",
   "mimetype": "text/x-python",
   "name": "python",
   "nbconvert_exporter": "python",
   "pygments_lexer": "ipython3",
   "version": "3.6.4"
  }
 },
 "nbformat": 4,
 "nbformat_minor": 2
}
